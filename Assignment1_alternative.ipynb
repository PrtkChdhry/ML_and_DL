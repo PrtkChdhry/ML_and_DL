{
 "cells": [
  {
   "cell_type": "markdown",
   "id": "bb6bdce6",
   "metadata": {},
   "source": [
    "## Task - 1 Create a pandas dataframe (DataFrame name as 'df') (10 observation and 5 features)"
   ]
  },
  {
   "cell_type": "code",
   "execution_count": 1,
   "id": "7da799b8",
   "metadata": {},
   "outputs": [],
   "source": [
    "import pandas as pd"
   ]
  },
  {
   "cell_type": "code",
   "execution_count": 2,
   "id": "d6dde24f",
   "metadata": {},
   "outputs": [],
   "source": [
    "marks = {'Name':['Prateek','Prachi','Nipul','Sanit','Rhea','Rohan','Sarthak','Krish','Rishika','Vani'],'Roll No':[21,23,25,29,35,13,14,45,36,10],'Maths':[100,95,82,91,68,75,91,49,68,90],'Science':[97,58,63,72,88,94,96,71,58,60],'English':[85,82,71,65,73,75,71,77,65,50]}"
   ]
  },
  {
   "cell_type": "code",
   "execution_count": 3,
   "id": "2c8c75a4",
   "metadata": {},
   "outputs": [
    {
     "data": {
      "text/plain": [
       "{'Name': ['Prateek',\n",
       "  'Prachi',\n",
       "  'Nipul',\n",
       "  'Sanit',\n",
       "  'Rhea',\n",
       "  'Rohan',\n",
       "  'Sarthak',\n",
       "  'Krish',\n",
       "  'Rishika',\n",
       "  'Vani'],\n",
       " 'Roll No': [21, 23, 25, 29, 35, 13, 14, 45, 36, 10],\n",
       " 'Maths': [100, 95, 82, 91, 68, 75, 91, 49, 68, 90],\n",
       " 'Science': [97, 58, 63, 72, 88, 94, 96, 71, 58, 60],\n",
       " 'English': [85, 82, 71, 65, 73, 75, 71, 77, 65, 50]}"
      ]
     },
     "execution_count": 3,
     "metadata": {},
     "output_type": "execute_result"
    }
   ],
   "source": [
    "marks"
   ]
  },
  {
   "cell_type": "code",
   "execution_count": 4,
   "id": "011a191e",
   "metadata": {},
   "outputs": [
    {
     "data": {
      "text/html": [
       "<div>\n",
       "<style scoped>\n",
       "    .dataframe tbody tr th:only-of-type {\n",
       "        vertical-align: middle;\n",
       "    }\n",
       "\n",
       "    .dataframe tbody tr th {\n",
       "        vertical-align: top;\n",
       "    }\n",
       "\n",
       "    .dataframe thead th {\n",
       "        text-align: right;\n",
       "    }\n",
       "</style>\n",
       "<table border=\"1\" class=\"dataframe\">\n",
       "  <thead>\n",
       "    <tr style=\"text-align: right;\">\n",
       "      <th></th>\n",
       "      <th>Name</th>\n",
       "      <th>Roll No</th>\n",
       "      <th>Maths</th>\n",
       "      <th>Science</th>\n",
       "      <th>English</th>\n",
       "    </tr>\n",
       "  </thead>\n",
       "  <tbody>\n",
       "    <tr>\n",
       "      <th>0</th>\n",
       "      <td>Prateek</td>\n",
       "      <td>21</td>\n",
       "      <td>100</td>\n",
       "      <td>97</td>\n",
       "      <td>85</td>\n",
       "    </tr>\n",
       "    <tr>\n",
       "      <th>1</th>\n",
       "      <td>Prachi</td>\n",
       "      <td>23</td>\n",
       "      <td>95</td>\n",
       "      <td>58</td>\n",
       "      <td>82</td>\n",
       "    </tr>\n",
       "    <tr>\n",
       "      <th>2</th>\n",
       "      <td>Nipul</td>\n",
       "      <td>25</td>\n",
       "      <td>82</td>\n",
       "      <td>63</td>\n",
       "      <td>71</td>\n",
       "    </tr>\n",
       "    <tr>\n",
       "      <th>3</th>\n",
       "      <td>Sanit</td>\n",
       "      <td>29</td>\n",
       "      <td>91</td>\n",
       "      <td>72</td>\n",
       "      <td>65</td>\n",
       "    </tr>\n",
       "    <tr>\n",
       "      <th>4</th>\n",
       "      <td>Rhea</td>\n",
       "      <td>35</td>\n",
       "      <td>68</td>\n",
       "      <td>88</td>\n",
       "      <td>73</td>\n",
       "    </tr>\n",
       "    <tr>\n",
       "      <th>5</th>\n",
       "      <td>Rohan</td>\n",
       "      <td>13</td>\n",
       "      <td>75</td>\n",
       "      <td>94</td>\n",
       "      <td>75</td>\n",
       "    </tr>\n",
       "    <tr>\n",
       "      <th>6</th>\n",
       "      <td>Sarthak</td>\n",
       "      <td>14</td>\n",
       "      <td>91</td>\n",
       "      <td>96</td>\n",
       "      <td>71</td>\n",
       "    </tr>\n",
       "    <tr>\n",
       "      <th>7</th>\n",
       "      <td>Krish</td>\n",
       "      <td>45</td>\n",
       "      <td>49</td>\n",
       "      <td>71</td>\n",
       "      <td>77</td>\n",
       "    </tr>\n",
       "    <tr>\n",
       "      <th>8</th>\n",
       "      <td>Rishika</td>\n",
       "      <td>36</td>\n",
       "      <td>68</td>\n",
       "      <td>58</td>\n",
       "      <td>65</td>\n",
       "    </tr>\n",
       "    <tr>\n",
       "      <th>9</th>\n",
       "      <td>Vani</td>\n",
       "      <td>10</td>\n",
       "      <td>90</td>\n",
       "      <td>60</td>\n",
       "      <td>50</td>\n",
       "    </tr>\n",
       "  </tbody>\n",
       "</table>\n",
       "</div>"
      ],
      "text/plain": [
       "      Name  Roll No  Maths  Science  English\n",
       "0  Prateek       21    100       97       85\n",
       "1   Prachi       23     95       58       82\n",
       "2    Nipul       25     82       63       71\n",
       "3    Sanit       29     91       72       65\n",
       "4     Rhea       35     68       88       73\n",
       "5    Rohan       13     75       94       75\n",
       "6  Sarthak       14     91       96       71\n",
       "7    Krish       45     49       71       77\n",
       "8  Rishika       36     68       58       65\n",
       "9     Vani       10     90       60       50"
      ]
     },
     "execution_count": 4,
     "metadata": {},
     "output_type": "execute_result"
    }
   ],
   "source": [
    "df = pd.DataFrame(marks)\n",
    "df"
   ]
  },
  {
   "cell_type": "markdown",
   "id": "a479a692",
   "metadata": {},
   "source": [
    "## Task- 2 Check the info of 'df'"
   ]
  },
  {
   "cell_type": "code",
   "execution_count": 5,
   "id": "084ae7ed",
   "metadata": {},
   "outputs": [
    {
     "name": "stdout",
     "output_type": "stream",
     "text": [
      "<class 'pandas.core.frame.DataFrame'>\n",
      "RangeIndex: 10 entries, 0 to 9\n",
      "Data columns (total 5 columns):\n",
      " #   Column   Non-Null Count  Dtype \n",
      "---  ------   --------------  ----- \n",
      " 0   Name     10 non-null     object\n",
      " 1   Roll No  10 non-null     int64 \n",
      " 2   Maths    10 non-null     int64 \n",
      " 3   Science  10 non-null     int64 \n",
      " 4   English  10 non-null     int64 \n",
      "dtypes: int64(4), object(1)\n",
      "memory usage: 528.0+ bytes\n"
     ]
    }
   ],
   "source": [
    "df.info()"
   ]
  },
  {
   "cell_type": "markdown",
   "id": "659ab7f6",
   "metadata": {},
   "source": [
    "## Task 3- Check the descriptive statistics of 'df'"
   ]
  },
  {
   "cell_type": "code",
   "execution_count": 7,
   "id": "2df1d5e9",
   "metadata": {},
   "outputs": [
    {
     "data": {
      "text/html": [
       "<div>\n",
       "<style scoped>\n",
       "    .dataframe tbody tr th:only-of-type {\n",
       "        vertical-align: middle;\n",
       "    }\n",
       "\n",
       "    .dataframe tbody tr th {\n",
       "        vertical-align: top;\n",
       "    }\n",
       "\n",
       "    .dataframe thead th {\n",
       "        text-align: right;\n",
       "    }\n",
       "</style>\n",
       "<table border=\"1\" class=\"dataframe\">\n",
       "  <thead>\n",
       "    <tr style=\"text-align: right;\">\n",
       "      <th></th>\n",
       "      <th>Roll No</th>\n",
       "      <th>Maths</th>\n",
       "      <th>Science</th>\n",
       "      <th>English</th>\n",
       "    </tr>\n",
       "  </thead>\n",
       "  <tbody>\n",
       "    <tr>\n",
       "      <th>count</th>\n",
       "      <td>10.000000</td>\n",
       "      <td>10.000000</td>\n",
       "      <td>10.000000</td>\n",
       "      <td>10.000000</td>\n",
       "    </tr>\n",
       "    <tr>\n",
       "      <th>mean</th>\n",
       "      <td>25.100000</td>\n",
       "      <td>80.900000</td>\n",
       "      <td>75.700000</td>\n",
       "      <td>71.400000</td>\n",
       "    </tr>\n",
       "    <tr>\n",
       "      <th>std</th>\n",
       "      <td>11.288637</td>\n",
       "      <td>15.765292</td>\n",
       "      <td>16.404945</td>\n",
       "      <td>9.912954</td>\n",
       "    </tr>\n",
       "    <tr>\n",
       "      <th>min</th>\n",
       "      <td>10.000000</td>\n",
       "      <td>49.000000</td>\n",
       "      <td>58.000000</td>\n",
       "      <td>50.000000</td>\n",
       "    </tr>\n",
       "    <tr>\n",
       "      <th>25%</th>\n",
       "      <td>15.750000</td>\n",
       "      <td>69.750000</td>\n",
       "      <td>60.750000</td>\n",
       "      <td>66.500000</td>\n",
       "    </tr>\n",
       "    <tr>\n",
       "      <th>50%</th>\n",
       "      <td>24.000000</td>\n",
       "      <td>86.000000</td>\n",
       "      <td>71.500000</td>\n",
       "      <td>72.000000</td>\n",
       "    </tr>\n",
       "    <tr>\n",
       "      <th>75%</th>\n",
       "      <td>33.500000</td>\n",
       "      <td>91.000000</td>\n",
       "      <td>92.500000</td>\n",
       "      <td>76.500000</td>\n",
       "    </tr>\n",
       "    <tr>\n",
       "      <th>max</th>\n",
       "      <td>45.000000</td>\n",
       "      <td>100.000000</td>\n",
       "      <td>97.000000</td>\n",
       "      <td>85.000000</td>\n",
       "    </tr>\n",
       "  </tbody>\n",
       "</table>\n",
       "</div>"
      ],
      "text/plain": [
       "         Roll No       Maths    Science    English\n",
       "count  10.000000   10.000000  10.000000  10.000000\n",
       "mean   25.100000   80.900000  75.700000  71.400000\n",
       "std    11.288637   15.765292  16.404945   9.912954\n",
       "min    10.000000   49.000000  58.000000  50.000000\n",
       "25%    15.750000   69.750000  60.750000  66.500000\n",
       "50%    24.000000   86.000000  71.500000  72.000000\n",
       "75%    33.500000   91.000000  92.500000  76.500000\n",
       "max    45.000000  100.000000  97.000000  85.000000"
      ]
     },
     "execution_count": 7,
     "metadata": {},
     "output_type": "execute_result"
    }
   ],
   "source": [
    "df.describe()"
   ]
  },
  {
   "cell_type": "markdown",
   "id": "68311841",
   "metadata": {},
   "source": [
    "## Task 4- Check the 4th index observation with 'loc' slicing operator."
   ]
  },
  {
   "cell_type": "code",
   "execution_count": 9,
   "id": "e8b41f3c",
   "metadata": {},
   "outputs": [
    {
     "data": {
      "text/plain": [
       "Name       Rhea\n",
       "Roll No      35\n",
       "Maths        68\n",
       "Science      88\n",
       "English      73\n",
       "Name: 4, dtype: object"
      ]
     },
     "execution_count": 9,
     "metadata": {},
     "output_type": "execute_result"
    }
   ],
   "source": [
    "df.loc[4]"
   ]
  },
  {
   "cell_type": "markdown",
   "id": "97ee86d4",
   "metadata": {},
   "source": [
    "## Task 5 - Check the null values in your 'df'"
   ]
  },
  {
   "cell_type": "code",
   "execution_count": 10,
   "id": "1ed7ec4c",
   "metadata": {},
   "outputs": [
    {
     "data": {
      "text/html": [
       "<div>\n",
       "<style scoped>\n",
       "    .dataframe tbody tr th:only-of-type {\n",
       "        vertical-align: middle;\n",
       "    }\n",
       "\n",
       "    .dataframe tbody tr th {\n",
       "        vertical-align: top;\n",
       "    }\n",
       "\n",
       "    .dataframe thead th {\n",
       "        text-align: right;\n",
       "    }\n",
       "</style>\n",
       "<table border=\"1\" class=\"dataframe\">\n",
       "  <thead>\n",
       "    <tr style=\"text-align: right;\">\n",
       "      <th></th>\n",
       "      <th>Name</th>\n",
       "      <th>Roll No</th>\n",
       "      <th>Maths</th>\n",
       "      <th>Science</th>\n",
       "      <th>English</th>\n",
       "    </tr>\n",
       "  </thead>\n",
       "  <tbody>\n",
       "    <tr>\n",
       "      <th>0</th>\n",
       "      <td>False</td>\n",
       "      <td>False</td>\n",
       "      <td>False</td>\n",
       "      <td>False</td>\n",
       "      <td>False</td>\n",
       "    </tr>\n",
       "    <tr>\n",
       "      <th>1</th>\n",
       "      <td>False</td>\n",
       "      <td>False</td>\n",
       "      <td>False</td>\n",
       "      <td>False</td>\n",
       "      <td>False</td>\n",
       "    </tr>\n",
       "    <tr>\n",
       "      <th>2</th>\n",
       "      <td>False</td>\n",
       "      <td>False</td>\n",
       "      <td>False</td>\n",
       "      <td>False</td>\n",
       "      <td>False</td>\n",
       "    </tr>\n",
       "    <tr>\n",
       "      <th>3</th>\n",
       "      <td>False</td>\n",
       "      <td>False</td>\n",
       "      <td>False</td>\n",
       "      <td>False</td>\n",
       "      <td>False</td>\n",
       "    </tr>\n",
       "    <tr>\n",
       "      <th>4</th>\n",
       "      <td>False</td>\n",
       "      <td>False</td>\n",
       "      <td>False</td>\n",
       "      <td>False</td>\n",
       "      <td>False</td>\n",
       "    </tr>\n",
       "    <tr>\n",
       "      <th>5</th>\n",
       "      <td>False</td>\n",
       "      <td>False</td>\n",
       "      <td>False</td>\n",
       "      <td>False</td>\n",
       "      <td>False</td>\n",
       "    </tr>\n",
       "    <tr>\n",
       "      <th>6</th>\n",
       "      <td>False</td>\n",
       "      <td>False</td>\n",
       "      <td>False</td>\n",
       "      <td>False</td>\n",
       "      <td>False</td>\n",
       "    </tr>\n",
       "    <tr>\n",
       "      <th>7</th>\n",
       "      <td>False</td>\n",
       "      <td>False</td>\n",
       "      <td>False</td>\n",
       "      <td>False</td>\n",
       "      <td>False</td>\n",
       "    </tr>\n",
       "    <tr>\n",
       "      <th>8</th>\n",
       "      <td>False</td>\n",
       "      <td>False</td>\n",
       "      <td>False</td>\n",
       "      <td>False</td>\n",
       "      <td>False</td>\n",
       "    </tr>\n",
       "    <tr>\n",
       "      <th>9</th>\n",
       "      <td>False</td>\n",
       "      <td>False</td>\n",
       "      <td>False</td>\n",
       "      <td>False</td>\n",
       "      <td>False</td>\n",
       "    </tr>\n",
       "  </tbody>\n",
       "</table>\n",
       "</div>"
      ],
      "text/plain": [
       "    Name  Roll No  Maths  Science  English\n",
       "0  False    False  False    False    False\n",
       "1  False    False  False    False    False\n",
       "2  False    False  False    False    False\n",
       "3  False    False  False    False    False\n",
       "4  False    False  False    False    False\n",
       "5  False    False  False    False    False\n",
       "6  False    False  False    False    False\n",
       "7  False    False  False    False    False\n",
       "8  False    False  False    False    False\n",
       "9  False    False  False    False    False"
      ]
     },
     "execution_count": 10,
     "metadata": {},
     "output_type": "execute_result"
    }
   ],
   "source": [
    "df.isnull()"
   ]
  },
  {
   "cell_type": "code",
   "execution_count": 11,
   "id": "114db71c",
   "metadata": {},
   "outputs": [
    {
     "data": {
      "text/plain": [
       "Name       False\n",
       "Roll No    False\n",
       "Maths      False\n",
       "Science    False\n",
       "English    False\n",
       "dtype: bool"
      ]
     },
     "execution_count": 11,
     "metadata": {},
     "output_type": "execute_result"
    }
   ],
   "source": [
    "df.isnull().any()"
   ]
  },
  {
   "cell_type": "code",
   "execution_count": null,
   "id": "8dda8441",
   "metadata": {},
   "outputs": [],
   "source": []
  }
 ],
 "metadata": {
  "kernelspec": {
   "display_name": "Python 3 (ipykernel)",
   "language": "python",
   "name": "python3"
  },
  "language_info": {
   "codemirror_mode": {
    "name": "ipython",
    "version": 3
   },
   "file_extension": ".py",
   "mimetype": "text/x-python",
   "name": "python",
   "nbconvert_exporter": "python",
   "pygments_lexer": "ipython3",
   "version": "3.9.13"
  }
 },
 "nbformat": 4,
 "nbformat_minor": 5
}
