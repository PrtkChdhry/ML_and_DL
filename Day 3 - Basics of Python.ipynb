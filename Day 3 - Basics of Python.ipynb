{
 "cells": [
  {
   "cell_type": "code",
   "execution_count": 1,
   "id": "43bafa0e",
   "metadata": {},
   "outputs": [
    {
     "name": "stdout",
     "output_type": "stream",
     "text": [
      "Prateek Choudhary\n"
     ]
    }
   ],
   "source": [
    "print(\"Prateek Choudhary\")"
   ]
  },
  {
   "cell_type": "code",
   "execution_count": 2,
   "id": "49a10ff5",
   "metadata": {},
   "outputs": [
    {
     "data": {
      "text/plain": [
       "10"
      ]
     },
     "execution_count": 2,
     "metadata": {},
     "output_type": "execute_result"
    }
   ],
   "source": [
    "5+5"
   ]
  },
  {
   "cell_type": "markdown",
   "id": "7691ab6d",
   "metadata": {},
   "source": [
    "#### shift+enter --- for execution shortcut key"
   ]
  },
  {
   "cell_type": "code",
   "execution_count": 4,
   "id": "b6e56056",
   "metadata": {},
   "outputs": [
    {
     "name": "stdout",
     "output_type": "stream",
     "text": [
      "['False', 'None', 'True', '__peg_parser__', 'and', 'as', 'assert', 'async', 'await', 'break', 'class', 'continue', 'def', 'del', 'elif', 'else', 'except', 'finally', 'for', 'from', 'global', 'if', 'import', 'in', 'is', 'lambda', 'nonlocal', 'not', 'or', 'pass', 'raise', 'return', 'try', 'while', 'with', 'yield']\n"
     ]
    }
   ],
   "source": [
    "import keyword\n",
    "print(keyword.kwlist)"
   ]
  },
  {
   "cell_type": "markdown",
   "id": "6e5b0d46",
   "metadata": {},
   "source": [
    "#### Identifiers cannot start with number, cannot incluyde any special character except '_' and it can also not contain any keyword"
   ]
  },
  {
   "cell_type": "code",
   "execution_count": 8,
   "id": "8ee5d4e7",
   "metadata": {},
   "outputs": [],
   "source": [
    "name1='Prateek'  # here name1 is an identifier or variable"
   ]
  },
  {
   "cell_type": "code",
   "execution_count": 9,
   "id": "17525c64",
   "metadata": {},
   "outputs": [
    {
     "name": "stdout",
     "output_type": "stream",
     "text": [
      "Age of person\n"
     ]
    }
   ],
   "source": [
    "age = 20\n",
    "if age==20:\n",
    "    print(\"Age of person\")\n",
    "# indentation is important"
   ]
  },
  {
   "cell_type": "code",
   "execution_count": 16,
   "id": "b41039aa",
   "metadata": {},
   "outputs": [
    {
     "data": {
      "text/plain": [
       "str"
      ]
     },
     "execution_count": 16,
     "metadata": {},
     "output_type": "execute_result"
    }
   ],
   "source": [
    "type(name1)"
   ]
  },
  {
   "cell_type": "code",
   "execution_count": 15,
   "id": "a5cd4eab",
   "metadata": {},
   "outputs": [
    {
     "data": {
      "text/plain": [
       "int"
      ]
     },
     "execution_count": 15,
     "metadata": {},
     "output_type": "execute_result"
    }
   ],
   "source": [
    "type(age)"
   ]
  },
  {
   "cell_type": "code",
   "execution_count": 18,
   "id": "b14db379",
   "metadata": {},
   "outputs": [
    {
     "data": {
      "text/plain": [
       "complex"
      ]
     },
     "execution_count": 18,
     "metadata": {},
     "output_type": "execute_result"
    }
   ],
   "source": [
    "com = 56+87j\n",
    "type(com)   # complex data type"
   ]
  },
  {
   "cell_type": "code",
   "execution_count": 20,
   "id": "371bcddc",
   "metadata": {},
   "outputs": [
    {
     "data": {
      "text/plain": [
       "bool"
      ]
     },
     "execution_count": 20,
     "metadata": {},
     "output_type": "execute_result"
    }
   ],
   "source": [
    "accept=True\n",
    "type(accept)"
   ]
  },
  {
   "cell_type": "markdown",
   "id": "617bb155",
   "metadata": {},
   "source": [
    "#### There are 2 types of indexing in python --- forward indexing and backward indexing"
   ]
  },
  {
   "cell_type": "code",
   "execution_count": 21,
   "id": "c30974d1",
   "metadata": {},
   "outputs": [
    {
     "data": {
      "text/plain": [
       "'a'"
      ]
     },
     "execution_count": 21,
     "metadata": {},
     "output_type": "execute_result"
    }
   ],
   "source": [
    "name1[2]"
   ]
  },
  {
   "cell_type": "code",
   "execution_count": 22,
   "id": "41b18436",
   "metadata": {},
   "outputs": [
    {
     "data": {
      "text/plain": [
       "'e'"
      ]
     },
     "execution_count": 22,
     "metadata": {},
     "output_type": "execute_result"
    }
   ],
   "source": [
    "name1[-3]"
   ]
  },
  {
   "cell_type": "code",
   "execution_count": 24,
   "id": "40c798a0",
   "metadata": {},
   "outputs": [
    {
     "data": {
      "text/plain": [
       "'rate'"
      ]
     },
     "execution_count": 24,
     "metadata": {},
     "output_type": "execute_result"
    }
   ],
   "source": [
    "name1[1:5]"
   ]
  },
  {
   "cell_type": "markdown",
   "id": "4cb3c6a1",
   "metadata": {},
   "source": [
    "#### Strings are immutable, we can only create and delete a string"
   ]
  },
  {
   "cell_type": "code",
   "execution_count": 25,
   "id": "1957295f",
   "metadata": {},
   "outputs": [
    {
     "data": {
      "text/plain": [
       "'Dhanbad'"
      ]
     },
     "execution_count": 25,
     "metadata": {},
     "output_type": "execute_result"
    }
   ],
   "source": [
    "location='Dhanbad'\n",
    "location"
   ]
  },
  {
   "cell_type": "code",
   "execution_count": 26,
   "id": "3d5c4c75",
   "metadata": {},
   "outputs": [
    {
     "data": {
      "text/plain": [
       "'DHANBAD'"
      ]
     },
     "execution_count": 26,
     "metadata": {},
     "output_type": "execute_result"
    }
   ],
   "source": [
    "location.upper()"
   ]
  },
  {
   "cell_type": "code",
   "execution_count": 27,
   "id": "e3a8acf5",
   "metadata": {},
   "outputs": [
    {
     "data": {
      "text/plain": [
       "'dhanbad'"
      ]
     },
     "execution_count": 27,
     "metadata": {},
     "output_type": "execute_result"
    }
   ],
   "source": [
    "location.lower()"
   ]
  },
  {
   "cell_type": "markdown",
   "id": "f47d962c",
   "metadata": {},
   "source": [
    "### List---"
   ]
  },
  {
   "cell_type": "code",
   "execution_count": 28,
   "id": "c6efe965",
   "metadata": {},
   "outputs": [
    {
     "data": {
      "text/plain": [
       "list"
      ]
     },
     "execution_count": 28,
     "metadata": {},
     "output_type": "execute_result"
    }
   ],
   "source": [
    "company=[]\n",
    "type(company)"
   ]
  },
  {
   "cell_type": "code",
   "execution_count": 32,
   "id": "b845e27b",
   "metadata": {},
   "outputs": [
    {
     "data": {
      "text/plain": [
       "['Google',\n",
       " 'Tesla',\n",
       " 'Microsoft',\n",
       " 'Adobe',\n",
       " 'Motorq',\n",
       " 25,\n",
       " 24,\n",
       " 19,\n",
       " 14,\n",
       " 10,\n",
       " 100,\n",
       " 1.5,\n",
       " 44.5,\n",
       " 36,\n",
       " 88]"
      ]
     },
     "execution_count": 32,
     "metadata": {},
     "output_type": "execute_result"
    }
   ],
   "source": [
    "company=['Google','Tesla','Microsoft','Adobe','Motorq',25,24,19,14,10,100,1.50,44.5,36,88]\n",
    "company"
   ]
  },
  {
   "cell_type": "code",
   "execution_count": 37,
   "id": "022b420d",
   "metadata": {},
   "outputs": [
    {
     "name": "stdout",
     "output_type": "stream",
     "text": [
      "Microsoft\n",
      "14\n"
     ]
    }
   ],
   "source": [
    "companies=[['Google','Tesla','Microsoft','Adobe','Motorq'],[25,24,19,14,10],[100,1.50,44.5,36,88]]\n",
    "print(companies[0][2])\n",
    "print(companies[1][3])"
   ]
  },
  {
   "cell_type": "code",
   "execution_count": 38,
   "id": "483f85d5",
   "metadata": {},
   "outputs": [
    {
     "data": {
      "text/plain": [
       "[['Google', 'Tesla', 'Microsoft', 'Adobe', 'Motorq'],\n",
       " [25, 24, 19, 14, 10],\n",
       " [100, 1.5, 44.5, 36, 88],\n",
       " 'Delhi']"
      ]
     },
     "execution_count": 38,
     "metadata": {},
     "output_type": "execute_result"
    }
   ],
   "source": [
    "companies.append(\"Delhi\")\n",
    "companies"
   ]
  },
  {
   "cell_type": "code",
   "execution_count": 45,
   "id": "c9ecd185",
   "metadata": {},
   "outputs": [
    {
     "data": {
      "text/plain": [
       "['Google',\n",
       " 'Tesla',\n",
       " 'Microsoft',\n",
       " 'Visa',\n",
       " 'Adobe',\n",
       " 'Motorq',\n",
       " 25,\n",
       " 24,\n",
       " 19,\n",
       " 14,\n",
       " 10,\n",
       " 100,\n",
       " 1.5,\n",
       " 44.5,\n",
       " 36,\n",
       " 88]"
      ]
     },
     "execution_count": 45,
     "metadata": {},
     "output_type": "execute_result"
    }
   ],
   "source": [
    "company"
   ]
  },
  {
   "cell_type": "code",
   "execution_count": 42,
   "id": "ef94ae87",
   "metadata": {},
   "outputs": [
    {
     "data": {
      "text/plain": [
       "['Google',\n",
       " 'Tesla',\n",
       " 'Microsoft',\n",
       " 'Visa',\n",
       " 'Visa',\n",
       " 'Visa',\n",
       " 'Adobe',\n",
       " 'Motorq',\n",
       " 25,\n",
       " 24,\n",
       " 19,\n",
       " 14,\n",
       " 10,\n",
       " 100,\n",
       " 1.5,\n",
       " 44.5,\n",
       " 36,\n",
       " 88]"
      ]
     },
     "execution_count": 42,
     "metadata": {},
     "output_type": "execute_result"
    }
   ],
   "source": [
    "company.insert(3,'Visa')\n",
    "company"
   ]
  },
  {
   "cell_type": "code",
   "execution_count": 44,
   "id": "72891f7d",
   "metadata": {},
   "outputs": [
    {
     "data": {
      "text/plain": [
       "['Google',\n",
       " 'Tesla',\n",
       " 'Microsoft',\n",
       " 'Visa',\n",
       " 'Adobe',\n",
       " 'Motorq',\n",
       " 25,\n",
       " 24,\n",
       " 19,\n",
       " 14,\n",
       " 10,\n",
       " 100,\n",
       " 1.5,\n",
       " 44.5,\n",
       " 36,\n",
       " 88]"
      ]
     },
     "execution_count": 44,
     "metadata": {},
     "output_type": "execute_result"
    }
   ],
   "source": [
    "company.remove('Visa')\n",
    "company"
   ]
  },
  {
   "cell_type": "code",
   "execution_count": 46,
   "id": "c807021e",
   "metadata": {},
   "outputs": [
    {
     "data": {
      "text/plain": [
       "88"
      ]
     },
     "execution_count": 46,
     "metadata": {},
     "output_type": "execute_result"
    }
   ],
   "source": [
    "company.pop()"
   ]
  },
  {
   "cell_type": "code",
   "execution_count": 47,
   "id": "9809b042",
   "metadata": {},
   "outputs": [
    {
     "data": {
      "text/plain": [
       "['Google',\n",
       " 'Tesla',\n",
       " 'Microsoft',\n",
       " 'Visa',\n",
       " 'Adobe',\n",
       " 'Motorq',\n",
       " 25,\n",
       " 24,\n",
       " 19,\n",
       " 14,\n",
       " 10,\n",
       " 100,\n",
       " 1.5,\n",
       " 44.5,\n",
       " 36]"
      ]
     },
     "execution_count": 47,
     "metadata": {},
     "output_type": "execute_result"
    }
   ],
   "source": [
    "company"
   ]
  },
  {
   "cell_type": "code",
   "execution_count": 48,
   "id": "bfbacdb2",
   "metadata": {},
   "outputs": [
    {
     "data": {
      "text/plain": [
       "'Motorq'"
      ]
     },
     "execution_count": 48,
     "metadata": {},
     "output_type": "execute_result"
    }
   ],
   "source": [
    "company.pop(5)"
   ]
  },
  {
   "cell_type": "code",
   "execution_count": 49,
   "id": "5f900f88",
   "metadata": {},
   "outputs": [
    {
     "data": {
      "text/plain": [
       "['Google',\n",
       " 'Tesla',\n",
       " 'Microsoft',\n",
       " 'Visa',\n",
       " 'Adobe',\n",
       " 25,\n",
       " 24,\n",
       " 19,\n",
       " 14,\n",
       " 10,\n",
       " 100,\n",
       " 1.5,\n",
       " 44.5,\n",
       " 36]"
      ]
     },
     "execution_count": 49,
     "metadata": {},
     "output_type": "execute_result"
    }
   ],
   "source": [
    "company"
   ]
  },
  {
   "cell_type": "code",
   "execution_count": 50,
   "id": "fb186a99",
   "metadata": {},
   "outputs": [
    {
     "data": {
      "text/plain": [
       "[['Google', 'Tesla', 'Microsoft', 'Adobe', 'Motorq'],\n",
       " [25, 24, 19, 14, 10],\n",
       " [100, 1.5, 44.5, 36, 88],\n",
       " 'Visa',\n",
       " 'Delhi']"
      ]
     },
     "execution_count": 50,
     "metadata": {},
     "output_type": "execute_result"
    }
   ],
   "source": [
    "companies"
   ]
  },
  {
   "cell_type": "code",
   "execution_count": 51,
   "id": "53f62368",
   "metadata": {},
   "outputs": [],
   "source": [
    "companies.clear()"
   ]
  },
  {
   "cell_type": "code",
   "execution_count": 52,
   "id": "e515efcd",
   "metadata": {},
   "outputs": [
    {
     "data": {
      "text/plain": [
       "[]"
      ]
     },
     "execution_count": 52,
     "metadata": {},
     "output_type": "execute_result"
    }
   ],
   "source": [
    "companies"
   ]
  },
  {
   "cell_type": "code",
   "execution_count": 54,
   "id": "9638bab5",
   "metadata": {},
   "outputs": [
    {
     "ename": "NameError",
     "evalue": "name 'companies' is not defined",
     "output_type": "error",
     "traceback": [
      "\u001b[1;31m---------------------------------------------------------------------------\u001b[0m",
      "\u001b[1;31mNameError\u001b[0m                                 Traceback (most recent call last)",
      "\u001b[1;32m~\\AppData\\Local\\Temp\\ipykernel_5108\\3820029491.py\u001b[0m in \u001b[0;36m<module>\u001b[1;34m\u001b[0m\n\u001b[1;32m----> 1\u001b[1;33m \u001b[1;32mdel\u001b[0m \u001b[0mcompanies\u001b[0m  \u001b[1;31m# Now it cannot be accessed\u001b[0m\u001b[1;33m\u001b[0m\u001b[1;33m\u001b[0m\u001b[0m\n\u001b[0m",
      "\u001b[1;31mNameError\u001b[0m: name 'companies' is not defined"
     ]
    }
   ],
   "source": [
    "del companies  # Now it cannot be accessed"
   ]
  },
  {
   "cell_type": "code",
   "execution_count": 55,
   "id": "a3a4e234",
   "metadata": {},
   "outputs": [
    {
     "data": {
      "text/plain": [
       "[264, 189, 156, 172, 208]"
      ]
     },
     "execution_count": 55,
     "metadata": {},
     "output_type": "execute_result"
    }
   ],
   "source": [
    "odi=[264,189,156,172,208]\n",
    "odi"
   ]
  },
  {
   "cell_type": "code",
   "execution_count": 56,
   "id": "8e4bb5f1",
   "metadata": {},
   "outputs": [
    {
     "data": {
      "text/plain": [
       "[208, 172, 156, 189, 264]"
      ]
     },
     "execution_count": 56,
     "metadata": {},
     "output_type": "execute_result"
    }
   ],
   "source": [
    "odi[::-1]  # reverse the list"
   ]
  },
  {
   "cell_type": "code",
   "execution_count": 57,
   "id": "b2909dce",
   "metadata": {},
   "outputs": [],
   "source": [
    "odi.reverse()  # reverses the list"
   ]
  },
  {
   "cell_type": "code",
   "execution_count": 58,
   "id": "708f03af",
   "metadata": {},
   "outputs": [
    {
     "data": {
      "text/plain": [
       "[208, 172, 156, 189, 264]"
      ]
     },
     "execution_count": 58,
     "metadata": {},
     "output_type": "execute_result"
    }
   ],
   "source": [
    "odi"
   ]
  },
  {
   "cell_type": "code",
   "execution_count": 59,
   "id": "cb8c16a7",
   "metadata": {},
   "outputs": [
    {
     "data": {
      "text/plain": [
       "['P', 'r', 'a', 't', 'e', 'e', 'k']"
      ]
     },
     "execution_count": 59,
     "metadata": {},
     "output_type": "execute_result"
    }
   ],
   "source": [
    "name='Prateek'\n",
    "name=[i for i in name]   # This is list comprehension\n",
    "name"
   ]
  },
  {
   "cell_type": "code",
   "execution_count": 60,
   "id": "7f901e5a",
   "metadata": {},
   "outputs": [
    {
     "data": {
      "text/plain": [
       "[0, 2, 4, 6, 8, 10, 12, 14, 16, 18, 20, 22, 24, 26, 28, 30, 32, 34, 36, 38]"
      ]
     },
     "execution_count": 60,
     "metadata": {},
     "output_type": "execute_result"
    }
   ],
   "source": [
    "even=[i for i in range (40) if i%2==0]\n",
    "even"
   ]
  },
  {
   "cell_type": "code",
   "execution_count": null,
   "id": "9076d51d",
   "metadata": {},
   "outputs": [],
   "source": []
  }
 ],
 "metadata": {
  "kernelspec": {
   "display_name": "Python 3 (ipykernel)",
   "language": "python",
   "name": "python3"
  },
  "language_info": {
   "codemirror_mode": {
    "name": "ipython",
    "version": 3
   },
   "file_extension": ".py",
   "mimetype": "text/x-python",
   "name": "python",
   "nbconvert_exporter": "python",
   "pygments_lexer": "ipython3",
   "version": "3.9.13"
  }
 },
 "nbformat": 4,
 "nbformat_minor": 5
}
