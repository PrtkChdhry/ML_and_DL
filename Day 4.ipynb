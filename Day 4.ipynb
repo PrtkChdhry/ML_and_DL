{
 "cells": [
  {
   "cell_type": "markdown",
   "id": "6adec073",
   "metadata": {},
   "source": [
    "## Tuples --- Ordered, indexing, slicing, immutable, allows duplicates"
   ]
  },
  {
   "cell_type": "code",
   "execution_count": 1,
   "id": "ff422f7f",
   "metadata": {},
   "outputs": [],
   "source": [
    "tup=(1,'Prateek',2.58)"
   ]
  },
  {
   "cell_type": "code",
   "execution_count": 2,
   "id": "29d464ca",
   "metadata": {},
   "outputs": [
    {
     "data": {
      "text/plain": [
       "(1, 'Prateek', 2.58)"
      ]
     },
     "execution_count": 2,
     "metadata": {},
     "output_type": "execute_result"
    }
   ],
   "source": [
    "tup"
   ]
  },
  {
   "cell_type": "code",
   "execution_count": 3,
   "id": "94e8b717",
   "metadata": {},
   "outputs": [
    {
     "data": {
      "text/plain": [
       "'Prateek'"
      ]
     },
     "execution_count": 3,
     "metadata": {},
     "output_type": "execute_result"
    }
   ],
   "source": [
    "tup[1]"
   ]
  },
  {
   "cell_type": "code",
   "execution_count": 5,
   "id": "ea14d34f",
   "metadata": {},
   "outputs": [
    {
     "data": {
      "text/plain": [
       "2.58"
      ]
     },
     "execution_count": 5,
     "metadata": {},
     "output_type": "execute_result"
    }
   ],
   "source": [
    "tup[2]"
   ]
  },
  {
   "cell_type": "code",
   "execution_count": 6,
   "id": "d62ce52d",
   "metadata": {},
   "outputs": [
    {
     "data": {
      "text/plain": [
       "('Prateek', 2.58)"
      ]
     },
     "execution_count": 6,
     "metadata": {},
     "output_type": "execute_result"
    }
   ],
   "source": [
    "tup[1:3]"
   ]
  },
  {
   "cell_type": "code",
   "execution_count": 7,
   "id": "e9b48e92",
   "metadata": {},
   "outputs": [
    {
     "data": {
      "text/plain": [
       "(2.58, 'Prateek', 1)"
      ]
     },
     "execution_count": 7,
     "metadata": {},
     "output_type": "execute_result"
    }
   ],
   "source": [
    "tup[::-1]"
   ]
  },
  {
   "cell_type": "code",
   "execution_count": 8,
   "id": "9014e6df",
   "metadata": {},
   "outputs": [
    {
     "data": {
      "text/plain": [
       "(1, 2.58)"
      ]
     },
     "execution_count": 8,
     "metadata": {},
     "output_type": "execute_result"
    }
   ],
   "source": [
    "tup[0:3:2]"
   ]
  },
  {
   "cell_type": "code",
   "execution_count": 9,
   "id": "9478af4a",
   "metadata": {},
   "outputs": [],
   "source": [
    "tup2=(1,'Prateek',2,5.8,2,2,2)  "
   ]
  },
  {
   "cell_type": "code",
   "execution_count": 10,
   "id": "3eec027a",
   "metadata": {},
   "outputs": [
    {
     "data": {
      "text/plain": [
       "(1, 'Prateek', 2, 5.8, 2, 2, 2)"
      ]
     },
     "execution_count": 10,
     "metadata": {},
     "output_type": "execute_result"
    }
   ],
   "source": [
    "tup2"
   ]
  },
  {
   "cell_type": "markdown",
   "id": "756a2cd8",
   "metadata": {},
   "source": [
    "## Set --- No duplicacy, unordered, no indexing & slicing, immutable"
   ]
  },
  {
   "cell_type": "code",
   "execution_count": 11,
   "id": "fc6184e8",
   "metadata": {},
   "outputs": [],
   "source": [
    "st={1,1,'Prateek','Rohan',35.265,12.452}"
   ]
  },
  {
   "cell_type": "code",
   "execution_count": 12,
   "id": "7dba2112",
   "metadata": {},
   "outputs": [
    {
     "data": {
      "text/plain": [
       "{1, 12.452, 35.265, 'Prateek', 'Rohan'}"
      ]
     },
     "execution_count": 12,
     "metadata": {},
     "output_type": "execute_result"
    }
   ],
   "source": [
    "st"
   ]
  },
  {
   "cell_type": "code",
   "execution_count": 16,
   "id": "9cfac825",
   "metadata": {},
   "outputs": [
    {
     "data": {
      "text/plain": [
       "set"
      ]
     },
     "execution_count": 16,
     "metadata": {},
     "output_type": "execute_result"
    }
   ],
   "source": [
    "type(st)"
   ]
  },
  {
   "cell_type": "markdown",
   "id": "669a5619",
   "metadata": {},
   "source": [
    "## Dictionary --- key:value"
   ]
  },
  {
   "cell_type": "code",
   "execution_count": 13,
   "id": "3ba6528f",
   "metadata": {},
   "outputs": [],
   "source": [
    "dict1 = {1:'Prateek',2:'Modi',3:'Rahul'}"
   ]
  },
  {
   "cell_type": "code",
   "execution_count": 14,
   "id": "5f9cc0a4",
   "metadata": {},
   "outputs": [
    {
     "data": {
      "text/plain": [
       "{1: 'Prateek', 2: 'Modi', 3: 'Rahul'}"
      ]
     },
     "execution_count": 14,
     "metadata": {},
     "output_type": "execute_result"
    }
   ],
   "source": [
    "dict1"
   ]
  },
  {
   "cell_type": "code",
   "execution_count": 15,
   "id": "770a91ea",
   "metadata": {},
   "outputs": [
    {
     "data": {
      "text/plain": [
       "dict"
      ]
     },
     "execution_count": 15,
     "metadata": {},
     "output_type": "execute_result"
    }
   ],
   "source": [
    "type(dict1)"
   ]
  },
  {
   "cell_type": "code",
   "execution_count": 17,
   "id": "33f1c8af",
   "metadata": {},
   "outputs": [],
   "source": [
    "dict2={1:['Prateek','Ram'],2:'Lakshman',3:'Bharat'}"
   ]
  },
  {
   "cell_type": "code",
   "execution_count": 18,
   "id": "d136aa9d",
   "metadata": {},
   "outputs": [
    {
     "data": {
      "text/plain": [
       "{1: ['Prateek', 'Ram'], 2: 'Lakshman', 3: 'Bharat'}"
      ]
     },
     "execution_count": 18,
     "metadata": {},
     "output_type": "execute_result"
    }
   ],
   "source": [
    "dict2"
   ]
  },
  {
   "cell_type": "markdown",
   "id": "5694ffa5",
   "metadata": {},
   "source": [
    "#### Multiple values can be assigned for 1 key but multiple keys cannot be assigned for 1 value"
   ]
  },
  {
   "cell_type": "code",
   "execution_count": 19,
   "id": "91008075",
   "metadata": {},
   "outputs": [
    {
     "data": {
      "text/plain": [
       "dict_keys([1, 2, 3])"
      ]
     },
     "execution_count": 19,
     "metadata": {},
     "output_type": "execute_result"
    }
   ],
   "source": [
    "dict2.keys()"
   ]
  },
  {
   "cell_type": "code",
   "execution_count": 20,
   "id": "123bf5fe",
   "metadata": {},
   "outputs": [
    {
     "data": {
      "text/plain": [
       "dict_values([['Prateek', 'Ram'], 'Lakshman', 'Bharat'])"
      ]
     },
     "execution_count": 20,
     "metadata": {},
     "output_type": "execute_result"
    }
   ],
   "source": [
    "dict2.values()"
   ]
  },
  {
   "cell_type": "code",
   "execution_count": 21,
   "id": "3d8a9be0",
   "metadata": {},
   "outputs": [
    {
     "data": {
      "text/plain": [
       "'Bharat'"
      ]
     },
     "execution_count": 21,
     "metadata": {},
     "output_type": "execute_result"
    }
   ],
   "source": [
    "dict2[3]"
   ]
  },
  {
   "cell_type": "code",
   "execution_count": 24,
   "id": "32a65411",
   "metadata": {},
   "outputs": [
    {
     "data": {
      "text/plain": [
       "['Prateek', 'Ram']"
      ]
     },
     "execution_count": 24,
     "metadata": {},
     "output_type": "execute_result"
    }
   ],
   "source": [
    "dict2[1]  # These are keys and not the index"
   ]
  },
  {
   "cell_type": "code",
   "execution_count": 30,
   "id": "20c116d9",
   "metadata": {},
   "outputs": [],
   "source": [
    "dict3={'name':'Prateek','roll_no':'21brs1450'}"
   ]
  },
  {
   "cell_type": "code",
   "execution_count": 31,
   "id": "70901709",
   "metadata": {},
   "outputs": [
    {
     "data": {
      "text/plain": [
       "{'name': 'Prateek', 'roll_no': '21brs1450'}"
      ]
     },
     "execution_count": 31,
     "metadata": {},
     "output_type": "execute_result"
    }
   ],
   "source": [
    "dict3"
   ]
  },
  {
   "cell_type": "code",
   "execution_count": 32,
   "id": "5be56346",
   "metadata": {},
   "outputs": [
    {
     "data": {
      "text/plain": [
       "'21brs1450'"
      ]
     },
     "execution_count": 32,
     "metadata": {},
     "output_type": "execute_result"
    }
   ],
   "source": [
    "dict3['roll_no']"
   ]
  },
  {
   "cell_type": "code",
   "execution_count": 33,
   "id": "bd8ae4c3",
   "metadata": {},
   "outputs": [],
   "source": [
    "dict3['roll_no']=21"
   ]
  },
  {
   "cell_type": "code",
   "execution_count": 34,
   "id": "07459849",
   "metadata": {},
   "outputs": [
    {
     "data": {
      "text/plain": [
       "{'name': 'Prateek', 'roll_no': 21}"
      ]
     },
     "execution_count": 34,
     "metadata": {},
     "output_type": "execute_result"
    }
   ],
   "source": [
    "dict3"
   ]
  },
  {
   "cell_type": "code",
   "execution_count": 35,
   "id": "5be7f850",
   "metadata": {},
   "outputs": [
    {
     "data": {
      "text/plain": [
       "{1: ['Prateek', 'Ram'], 2: 'Lakshman', 3: 'Bharat'}"
      ]
     },
     "execution_count": 35,
     "metadata": {},
     "output_type": "execute_result"
    }
   ],
   "source": [
    "dict2"
   ]
  },
  {
   "cell_type": "code",
   "execution_count": 41,
   "id": "9b5bed8d",
   "metadata": {},
   "outputs": [],
   "source": [
    "dict4 = {'name':['Prateek','Raju','Bheem','Rohan'],'inst':'VIT','roll':'21brs1450',4:45,3.2:5}"
   ]
  },
  {
   "cell_type": "code",
   "execution_count": 42,
   "id": "cca4b7a8",
   "metadata": {},
   "outputs": [
    {
     "data": {
      "text/plain": [
       "{'name': ['Prateek', 'Raju', 'Bheem', 'Rohan'],\n",
       " 'inst': 'VIT',\n",
       " 'roll': '21brs1450',\n",
       " 4: 45,\n",
       " 3.2: 5}"
      ]
     },
     "execution_count": 42,
     "metadata": {},
     "output_type": "execute_result"
    }
   ],
   "source": [
    "dict4"
   ]
  },
  {
   "cell_type": "code",
   "execution_count": 43,
   "id": "d2e8fc2b",
   "metadata": {},
   "outputs": [
    {
     "data": {
      "text/plain": [
       "list"
      ]
     },
     "execution_count": 43,
     "metadata": {},
     "output_type": "execute_result"
    }
   ],
   "source": [
    "type(dict4['name'])"
   ]
  },
  {
   "cell_type": "code",
   "execution_count": 44,
   "id": "07a3867f",
   "metadata": {},
   "outputs": [
    {
     "data": {
      "text/plain": [
       "str"
      ]
     },
     "execution_count": 44,
     "metadata": {},
     "output_type": "execute_result"
    }
   ],
   "source": [
    "type(dict4['inst'])"
   ]
  },
  {
   "cell_type": "code",
   "execution_count": 45,
   "id": "ab64e3a2",
   "metadata": {},
   "outputs": [
    {
     "data": {
      "text/plain": [
       "int"
      ]
     },
     "execution_count": 45,
     "metadata": {},
     "output_type": "execute_result"
    }
   ],
   "source": [
    "type(dict4[4])"
   ]
  },
  {
   "cell_type": "code",
   "execution_count": 46,
   "id": "22db5dfc",
   "metadata": {},
   "outputs": [
    {
     "data": {
      "text/plain": [
       "int"
      ]
     },
     "execution_count": 46,
     "metadata": {},
     "output_type": "execute_result"
    }
   ],
   "source": [
    "type(dict4[3.2])"
   ]
  },
  {
   "cell_type": "code",
   "execution_count": 47,
   "id": "a210ef1d",
   "metadata": {},
   "outputs": [
    {
     "data": {
      "text/plain": [
       "['Raju', 'Bheem']"
      ]
     },
     "execution_count": 47,
     "metadata": {},
     "output_type": "execute_result"
    }
   ],
   "source": [
    "dict4['name'][1:3]"
   ]
  },
  {
   "cell_type": "code",
   "execution_count": 48,
   "id": "09c1b136",
   "metadata": {},
   "outputs": [
    {
     "data": {
      "text/plain": [
       "['Bheem', 'Rohan']"
      ]
     },
     "execution_count": 48,
     "metadata": {},
     "output_type": "execute_result"
    }
   ],
   "source": [
    "dict4['name'][-2:]"
   ]
  },
  {
   "cell_type": "code",
   "execution_count": 49,
   "id": "e01ff203",
   "metadata": {},
   "outputs": [],
   "source": [
    "del dict2"
   ]
  },
  {
   "cell_type": "markdown",
   "id": "fe167580",
   "metadata": {},
   "source": [
    "## Conditional statemenets ---"
   ]
  },
  {
   "cell_type": "code",
   "execution_count": 50,
   "id": "dd6a238f",
   "metadata": {},
   "outputs": [
    {
     "name": "stdout",
     "output_type": "stream",
     "text": [
      "10\n"
     ]
    }
   ],
   "source": [
    "a=10\n",
    "if a>9:\n",
    "    print(a)"
   ]
  },
  {
   "cell_type": "code",
   "execution_count": 52,
   "id": "639ecd63",
   "metadata": {},
   "outputs": [
    {
     "name": "stdout",
     "output_type": "stream",
     "text": [
      "Enter the value: 25\n",
      "Greater\n"
     ]
    }
   ],
   "source": [
    "b=int(input('Enter the value: '))\n",
    "if b>15:\n",
    "    print(\"Greater\")\n",
    "else:\n",
    "    print(\"Lesser\")"
   ]
  },
  {
   "cell_type": "code",
   "execution_count": 53,
   "id": "02cb5cd2",
   "metadata": {},
   "outputs": [
    {
     "name": "stdout",
     "output_type": "stream",
     "text": [
      "Enter the number: 51\n",
      "51 is the user input\n"
     ]
    }
   ],
   "source": [
    "num=int(input('Enter the number: '))\n",
    "if num>50:\n",
    "    print('{} is the user input'.format(num))"
   ]
  },
  {
   "cell_type": "code",
   "execution_count": 58,
   "id": "67cffe72",
   "metadata": {},
   "outputs": [
    {
     "name": "stdout",
     "output_type": "stream",
     "text": [
      "Enter the trainer name: Saumya\n",
      "Enter the trainer track: Python\n",
      "The trainer Saumya is taking Python session\n",
      "The trainer Saumya is taking Python session\n",
      "The trainer Saumya is taking Python session\n",
      "The trainer Saumya is taking Python session\n"
     ]
    }
   ],
   "source": [
    "name=input('Enter the trainer name: ')\n",
    "tr=input('Enter the trainer track: ')\n",
    "\n",
    "print('The trainer',name,'is taking',tr,'session')\n",
    "print('The trainer {} is taking {} session'.format(name,tr))\n",
    "print(f'The trainer {name} is taking {tr} session')\n",
    "print('The trainer '+name+' is taking '+tr+' session')"
   ]
  },
  {
   "cell_type": "code",
   "execution_count": 61,
   "id": "2c07631e",
   "metadata": {},
   "outputs": [
    {
     "name": "stdout",
     "output_type": "stream",
     "text": [
      "Enter the value of a: 15\n",
      "15 is the user input\n"
     ]
    }
   ],
   "source": [
    "a=int(input('Enter the value of a: '))\n",
    "if a>10:\n",
    "    print('{} is the user input'.format(a))\n",
    "else:\n",
    "    print(a)"
   ]
  },
  {
   "cell_type": "code",
   "execution_count": 62,
   "id": "c61552d5",
   "metadata": {},
   "outputs": [
    {
     "name": "stdout",
     "output_type": "stream",
     "text": [
      "Enter the value of a: 15\n",
      "15 is greater\n"
     ]
    }
   ],
   "source": [
    "a=int(input('Enter the value of a: '))\n",
    "if a>10:\n",
    "    print('{} is greater'.format(a))\n",
    "elif a<10:\n",
    "    print('{a} is smaller')\n",
    "else:\n",
    "    print('Equal')"
   ]
  },
  {
   "cell_type": "markdown",
   "id": "bae68177",
   "metadata": {},
   "source": [
    "## Looping ---"
   ]
  },
  {
   "cell_type": "code",
   "execution_count": 63,
   "id": "50d2612e",
   "metadata": {},
   "outputs": [
    {
     "name": "stdout",
     "output_type": "stream",
     "text": [
      "0\n",
      "1\n",
      "2\n",
      "3\n",
      "4\n"
     ]
    }
   ],
   "source": [
    "for i in range (5):\n",
    "    print(i)"
   ]
  },
  {
   "cell_type": "code",
   "execution_count": 64,
   "id": "c198176b",
   "metadata": {},
   "outputs": [
    {
     "name": "stdout",
     "output_type": "stream",
     "text": [
      "0\n",
      "1\n",
      "2\n",
      "3\n"
     ]
    }
   ],
   "source": [
    "for i in range (0,10):\n",
    "    if i==4:\n",
    "        break\n",
    "    print(i)"
   ]
  }
 ],
 "metadata": {
  "kernelspec": {
   "display_name": "Python 3 (ipykernel)",
   "language": "python",
   "name": "python3"
  },
  "language_info": {
   "codemirror_mode": {
    "name": "ipython",
    "version": 3
   },
   "file_extension": ".py",
   "mimetype": "text/x-python",
   "name": "python",
   "nbconvert_exporter": "python",
   "pygments_lexer": "ipython3",
   "version": "3.9.13"
  }
 },
 "nbformat": 4,
 "nbformat_minor": 5
}
